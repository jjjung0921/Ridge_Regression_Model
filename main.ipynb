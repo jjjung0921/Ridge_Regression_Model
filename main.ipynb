{
 "cells": [
  {
   "cell_type": "code",
   "id": "9e0c3aa4-f34b-4dad-87c4-f0200130cf38",
   "metadata": {
    "ExecuteTime": {
     "end_time": "2025-03-24T13:44:47.862767Z",
     "start_time": "2025-03-24T13:44:47.848888Z"
    }
   },
   "source": [
    "import json\n",
    "import pandas as pd\n",
    "import numpy as np\n",
    "\n",
    "# JSON 파일 로드\n",
    "with open('data/wildfire_data.json') as wf:\n",
    "    data = json.load(wf)\n",
    "\n",
    "# 데이터 가져오기\n",
    "x_data = np.array(data['U']['data'])  # 2D 배열\n",
    "y_data = np.array(data['v']['data']).reshape(-1, 1)  # 1D → 2D 변환\n",
    "\n",
    "# 데이터 결합\n",
    "combined_data = np.concatenate((x_data, y_data), axis=1)  # 2D + 2D 결합\n",
    "\n",
    "# DataFrame 생성\n",
    "columns = ['X_locate', 'Y_locate', 'Month', 'FFMC', 'Temperature', 'Wind', 'Rain', 'Area']\n",
    "df = pd.DataFrame(data=combined_data, columns=columns)\n",
    "\n",
    "# 출력\n",
    "print(df)\n"
   ],
   "outputs": [
    {
     "name": "stdout",
     "output_type": "stream",
     "text": [
      "     X_locate  Y_locate  Month  FFMC  Temperature  Wind  Rain      Area\n",
      "0         6.0       3.0    9.0  88.6         20.6   1.8   0.0  0.000000\n",
      "1         6.0       5.0    8.0  95.2         27.4   4.0   0.0  0.641854\n",
      "2         3.0       4.0   12.0  85.4          4.6   8.5   0.0  2.462150\n",
      "3         7.0       4.0    8.0  90.2         19.5   5.8   0.0  0.000000\n",
      "4         5.0       4.0    9.0  94.3         20.1   4.9   0.0  0.900161\n",
      "..        ...       ...    ...   ...          ...   ...   ...       ...\n",
      "512       8.0       6.0    6.0  91.2         19.6   4.9   0.0  0.000000\n",
      "513       2.0       4.0    8.0  81.6         21.9   5.8   0.0  4.012592\n",
      "514       6.0       5.0    9.0  91.9         21.1   2.7   0.0  1.894617\n",
      "515       3.0       4.0    3.0  88.1         15.8   7.6   0.0  0.000000\n",
      "516       4.0       3.0    9.0  91.6          9.8   1.8   0.0  0.000000\n",
      "\n",
      "[517 rows x 8 columns]\n"
     ]
    }
   ],
   "execution_count": 747
  },
  {
   "metadata": {
    "ExecuteTime": {
     "end_time": "2025-03-24T13:44:47.879040Z",
     "start_time": "2025-03-24T13:44:47.873770Z"
    }
   },
   "cell_type": "code",
   "source": [
    "from sklearn.model_selection import train_test_split\n",
    "\n",
    "train_set, test_set = train_test_split(df, test_size=0.2, random_state=42)\n",
    "\n",
    "train_set = pd.DataFrame(train_set, columns=columns)\n",
    "test_set = pd.DataFrame(test_set, columns=columns)\n",
    "\n",
    "train_set_x = train_set.drop(columns=train_set.columns[-1])  # 마지막 열 제외\n",
    "test_set_x = test_set.drop(columns=test_set.columns[-1])\n",
    "train_set_y = train_set.iloc[:, -1].values.reshape(-1, 1)\n",
    "test_set_y = test_set.iloc[:, -1].values.reshape(-1, 1)\n",
    "\n",
    "print(train_set_x.shape)\n",
    "print(train_set_y.shape)\n",
    "print(test_set_x.shape)\n",
    "print(test_set_y.shape)"
   ],
   "id": "501b95da3d0018a2",
   "outputs": [
    {
     "name": "stdout",
     "output_type": "stream",
     "text": [
      "(413, 7)\n",
      "(413, 1)\n",
      "(104, 7)\n",
      "(104, 1)\n"
     ]
    }
   ],
   "execution_count": 748
  },
  {
   "metadata": {
    "ExecuteTime": {
     "end_time": "2025-03-24T13:44:47.934567Z",
     "start_time": "2025-03-24T13:44:47.927508Z"
    }
   },
   "cell_type": "code",
   "source": [
    "from sklearn.preprocessing import StandardScaler\n",
    "\n",
    "cols_to_exclude = ['Month', 'Area']\n",
    "cols_to_scale = [col for col in df.columns if col not in cols_to_exclude]\n",
    "\n",
    "train_set_scaled = train_set_x.copy().reset_index(drop=True)\n",
    "test_set_scaled = test_set_x.copy().reset_index(drop=True)\n",
    "\n",
    "scaler = StandardScaler()\n",
    "train_set_scaled[cols_to_scale] = scaler.fit_transform(train_set_x[cols_to_scale])\n",
    "test_set_scaled[cols_to_scale] = scaler.transform(test_set_x[cols_to_scale])\n",
    "\n",
    "print(train_set_scaled)\n",
    "print(test_set_scaled)"
   ],
   "id": "2e2f74ae8134ce83",
   "outputs": [
    {
     "name": "stdout",
     "output_type": "stream",
     "text": [
      "     X_locate  Y_locate  Month       FFMC  Temperature      Wind      Rain\n",
      "0   -0.274128  0.602856    1.0 -12.943816    -2.365455 -1.752069 -0.073328\n",
      "1    1.454346  1.419183    8.0   0.261277     1.153681 -1.238348 -0.073328\n",
      "2    1.454346  0.602856    8.0   0.441183     1.379044 -0.496307 -0.073328\n",
      "3    0.590109  0.602856    9.0   0.045390     0.425584 -1.010027 -0.073328\n",
      "4    0.157990 -0.213470    8.0   0.747023     0.252227 -0.724627 -0.073328\n",
      "..        ...       ...    ...        ...          ...       ...       ...\n",
      "408 -0.706247 -0.213470    9.0  -0.188487     0.858975 -0.210906 -0.073328\n",
      "409 -0.274128 -0.213470    8.0   0.800995     1.708421  0.017414 -0.073328\n",
      "410 -1.138366  0.602856    8.0   0.818986     0.928317 -0.724627 -0.073328\n",
      "411 -1.570484 -0.213470    7.0   0.297259     0.789632  0.816536 -0.073328\n",
      "412  0.590109 -1.029797    9.0   0.387212     0.009528  1.843977 -0.073328\n",
      "\n",
      "[413 rows x 7 columns]\n",
      "     X_locate  Y_locate  Month      FFMC  Temperature      Wind      Rain\n",
      "0    1.022227 -0.213470    8.0  0.207306     0.841639 -1.238348 -0.073328\n",
      "1   -0.706247 -0.213470    3.0  0.495155    -1.724036  2.300618 -0.073328\n",
      "2    0.157990 -0.213470    8.0  0.063381     0.390912  2.072298  4.253033\n",
      "3   -0.706247 -0.213470    8.0  0.153334    -1.481337 -1.010027 -0.073328\n",
      "4   -0.274128 -1.029797    8.0  0.693052     1.743092  0.531135 -0.073328\n",
      "..        ...       ...    ...       ...          ...       ...       ...\n",
      "99   1.454346  1.419183    8.0  0.081371     0.789632 -0.724627 -0.073328\n",
      "100 -0.274128 -0.213470   12.0 -0.944092    -2.469468  2.586018 -0.073328\n",
      "101 -0.274128  0.602856    3.0  0.189315    -0.285178  0.302815 -0.073328\n",
      "102 -1.138366 -0.213470    8.0 -1.627735     0.529598  1.044856 -0.073328\n",
      "103  0.590109 -1.029797    2.0 -1.034045    -2.538811  0.017414 -0.073328\n",
      "\n",
      "[104 rows x 7 columns]\n"
     ]
    }
   ],
   "execution_count": 749
  },
  {
   "metadata": {
    "ExecuteTime": {
     "end_time": "2025-03-24T13:44:48.019495Z",
     "start_time": "2025-03-24T13:44:48.010926Z"
    }
   },
   "cell_type": "code",
   "source": [
    "from sklearn.preprocessing import OneHotEncoder\n",
    "\n",
    "month = list(range(1, 13))\n",
    "column_names = [f'Month_{i}' for i in month]\n",
    "\n",
    "encoder = OneHotEncoder(categories=[month], sparse_output=False)\n",
    "train_month_encoded = encoder.fit_transform(train_set_scaled[['Month']])\n",
    "test_month_encoded = encoder.transform(test_set_scaled[['Month']])\n",
    "\n",
    "train_month_df = pd.DataFrame(train_month_encoded, columns=column_names)\n",
    "test_month_df = pd.DataFrame(test_month_encoded, columns=column_names)\n",
    "\n",
    "train_set_scaled_month = train_set_scaled.drop(columns=['Month'])\n",
    "test_set_scaled_month = test_set_scaled.drop(columns=['Month'])\n",
    "\n",
    "print(train_month_df)\n",
    "print(test_month_df)"
   ],
   "id": "a8ecc3b2f0b87d73",
   "outputs": [
    {
     "name": "stdout",
     "output_type": "stream",
     "text": [
      "     Month_1  Month_2  Month_3  Month_4  Month_5  Month_6  Month_7  Month_8  \\\n",
      "0        1.0      0.0      0.0      0.0      0.0      0.0      0.0      0.0   \n",
      "1        0.0      0.0      0.0      0.0      0.0      0.0      0.0      1.0   \n",
      "2        0.0      0.0      0.0      0.0      0.0      0.0      0.0      1.0   \n",
      "3        0.0      0.0      0.0      0.0      0.0      0.0      0.0      0.0   \n",
      "4        0.0      0.0      0.0      0.0      0.0      0.0      0.0      1.0   \n",
      "..       ...      ...      ...      ...      ...      ...      ...      ...   \n",
      "408      0.0      0.0      0.0      0.0      0.0      0.0      0.0      0.0   \n",
      "409      0.0      0.0      0.0      0.0      0.0      0.0      0.0      1.0   \n",
      "410      0.0      0.0      0.0      0.0      0.0      0.0      0.0      1.0   \n",
      "411      0.0      0.0      0.0      0.0      0.0      0.0      1.0      0.0   \n",
      "412      0.0      0.0      0.0      0.0      0.0      0.0      0.0      0.0   \n",
      "\n",
      "     Month_9  Month_10  Month_11  Month_12  \n",
      "0        0.0       0.0       0.0       0.0  \n",
      "1        0.0       0.0       0.0       0.0  \n",
      "2        0.0       0.0       0.0       0.0  \n",
      "3        1.0       0.0       0.0       0.0  \n",
      "4        0.0       0.0       0.0       0.0  \n",
      "..       ...       ...       ...       ...  \n",
      "408      1.0       0.0       0.0       0.0  \n",
      "409      0.0       0.0       0.0       0.0  \n",
      "410      0.0       0.0       0.0       0.0  \n",
      "411      0.0       0.0       0.0       0.0  \n",
      "412      1.0       0.0       0.0       0.0  \n",
      "\n",
      "[413 rows x 12 columns]\n",
      "     Month_1  Month_2  Month_3  Month_4  Month_5  Month_6  Month_7  Month_8  \\\n",
      "0        0.0      0.0      0.0      0.0      0.0      0.0      0.0      1.0   \n",
      "1        0.0      0.0      1.0      0.0      0.0      0.0      0.0      0.0   \n",
      "2        0.0      0.0      0.0      0.0      0.0      0.0      0.0      1.0   \n",
      "3        0.0      0.0      0.0      0.0      0.0      0.0      0.0      1.0   \n",
      "4        0.0      0.0      0.0      0.0      0.0      0.0      0.0      1.0   \n",
      "..       ...      ...      ...      ...      ...      ...      ...      ...   \n",
      "99       0.0      0.0      0.0      0.0      0.0      0.0      0.0      1.0   \n",
      "100      0.0      0.0      0.0      0.0      0.0      0.0      0.0      0.0   \n",
      "101      0.0      0.0      1.0      0.0      0.0      0.0      0.0      0.0   \n",
      "102      0.0      0.0      0.0      0.0      0.0      0.0      0.0      1.0   \n",
      "103      0.0      1.0      0.0      0.0      0.0      0.0      0.0      0.0   \n",
      "\n",
      "     Month_9  Month_10  Month_11  Month_12  \n",
      "0        0.0       0.0       0.0       0.0  \n",
      "1        0.0       0.0       0.0       0.0  \n",
      "2        0.0       0.0       0.0       0.0  \n",
      "3        0.0       0.0       0.0       0.0  \n",
      "4        0.0       0.0       0.0       0.0  \n",
      "..       ...       ...       ...       ...  \n",
      "99       0.0       0.0       0.0       0.0  \n",
      "100      0.0       0.0       0.0       1.0  \n",
      "101      0.0       0.0       0.0       0.0  \n",
      "102      0.0       0.0       0.0       0.0  \n",
      "103      0.0       0.0       0.0       0.0  \n",
      "\n",
      "[104 rows x 12 columns]\n"
     ]
    }
   ],
   "execution_count": 750
  },
  {
   "metadata": {
    "ExecuteTime": {
     "end_time": "2025-03-24T13:44:48.031779Z",
     "start_time": "2025-03-24T13:44:48.022303Z"
    }
   },
   "cell_type": "code",
   "source": [
    "train_data_set_x = pd.concat([train_set_scaled_month, train_month_df], ignore_index=True, axis=1)\n",
    "test_data_set_x = pd.concat([test_set_scaled_month, test_month_df], ignore_index=True, axis=1)\n",
    "\n",
    "train_data_ones = np.ones(len(train_data_set_x))\n",
    "test_data_ones = np.ones(len(test_data_set_x))\n",
    "\n",
    "train_data_ones = pd.DataFrame(data=train_data_ones, columns=['bias'])\n",
    "test_data_ones = pd.DataFrame(data=test_data_ones, columns=['bias'])\n",
    "\n",
    "train_data_set = pd.concat([train_data_set_x, train_data_ones], ignore_index=True, axis=1)\n",
    "test_data_set = pd.concat([test_data_set_x, test_data_ones], ignore_index=True, axis=1)\n",
    "\n",
    "print(train_data_set)\n",
    "print(test_data_set)"
   ],
   "id": "26f8327242958032",
   "outputs": [
    {
     "name": "stdout",
     "output_type": "stream",
     "text": [
      "           0         1          2         3         4         5    6    7   \\\n",
      "0   -0.274128  0.602856 -12.943816 -2.365455 -1.752069 -0.073328  1.0  0.0   \n",
      "1    1.454346  1.419183   0.261277  1.153681 -1.238348 -0.073328  0.0  0.0   \n",
      "2    1.454346  0.602856   0.441183  1.379044 -0.496307 -0.073328  0.0  0.0   \n",
      "3    0.590109  0.602856   0.045390  0.425584 -1.010027 -0.073328  0.0  0.0   \n",
      "4    0.157990 -0.213470   0.747023  0.252227 -0.724627 -0.073328  0.0  0.0   \n",
      "..        ...       ...        ...       ...       ...       ...  ...  ...   \n",
      "408 -0.706247 -0.213470  -0.188487  0.858975 -0.210906 -0.073328  0.0  0.0   \n",
      "409 -0.274128 -0.213470   0.800995  1.708421  0.017414 -0.073328  0.0  0.0   \n",
      "410 -1.138366  0.602856   0.818986  0.928317 -0.724627 -0.073328  0.0  0.0   \n",
      "411 -1.570484 -0.213470   0.297259  0.789632  0.816536 -0.073328  0.0  0.0   \n",
      "412  0.590109 -1.029797   0.387212  0.009528  1.843977 -0.073328  0.0  0.0   \n",
      "\n",
      "      8    9    10   11   12   13   14   15   16   17   18  \n",
      "0    0.0  0.0  0.0  0.0  0.0  0.0  0.0  0.0  0.0  0.0  1.0  \n",
      "1    0.0  0.0  0.0  0.0  0.0  1.0  0.0  0.0  0.0  0.0  1.0  \n",
      "2    0.0  0.0  0.0  0.0  0.0  1.0  0.0  0.0  0.0  0.0  1.0  \n",
      "3    0.0  0.0  0.0  0.0  0.0  0.0  1.0  0.0  0.0  0.0  1.0  \n",
      "4    0.0  0.0  0.0  0.0  0.0  1.0  0.0  0.0  0.0  0.0  1.0  \n",
      "..   ...  ...  ...  ...  ...  ...  ...  ...  ...  ...  ...  \n",
      "408  0.0  0.0  0.0  0.0  0.0  0.0  1.0  0.0  0.0  0.0  1.0  \n",
      "409  0.0  0.0  0.0  0.0  0.0  1.0  0.0  0.0  0.0  0.0  1.0  \n",
      "410  0.0  0.0  0.0  0.0  0.0  1.0  0.0  0.0  0.0  0.0  1.0  \n",
      "411  0.0  0.0  0.0  0.0  1.0  0.0  0.0  0.0  0.0  0.0  1.0  \n",
      "412  0.0  0.0  0.0  0.0  0.0  0.0  1.0  0.0  0.0  0.0  1.0  \n",
      "\n",
      "[413 rows x 19 columns]\n",
      "           0         1         2         3         4         5    6    7   \\\n",
      "0    1.022227 -0.213470  0.207306  0.841639 -1.238348 -0.073328  0.0  0.0   \n",
      "1   -0.706247 -0.213470  0.495155 -1.724036  2.300618 -0.073328  0.0  0.0   \n",
      "2    0.157990 -0.213470  0.063381  0.390912  2.072298  4.253033  0.0  0.0   \n",
      "3   -0.706247 -0.213470  0.153334 -1.481337 -1.010027 -0.073328  0.0  0.0   \n",
      "4   -0.274128 -1.029797  0.693052  1.743092  0.531135 -0.073328  0.0  0.0   \n",
      "..        ...       ...       ...       ...       ...       ...  ...  ...   \n",
      "99   1.454346  1.419183  0.081371  0.789632 -0.724627 -0.073328  0.0  0.0   \n",
      "100 -0.274128 -0.213470 -0.944092 -2.469468  2.586018 -0.073328  0.0  0.0   \n",
      "101 -0.274128  0.602856  0.189315 -0.285178  0.302815 -0.073328  0.0  0.0   \n",
      "102 -1.138366 -0.213470 -1.627735  0.529598  1.044856 -0.073328  0.0  0.0   \n",
      "103  0.590109 -1.029797 -1.034045 -2.538811  0.017414 -0.073328  0.0  1.0   \n",
      "\n",
      "      8    9    10   11   12   13   14   15   16   17   18  \n",
      "0    0.0  0.0  0.0  0.0  0.0  1.0  0.0  0.0  0.0  0.0  1.0  \n",
      "1    1.0  0.0  0.0  0.0  0.0  0.0  0.0  0.0  0.0  0.0  1.0  \n",
      "2    0.0  0.0  0.0  0.0  0.0  1.0  0.0  0.0  0.0  0.0  1.0  \n",
      "3    0.0  0.0  0.0  0.0  0.0  1.0  0.0  0.0  0.0  0.0  1.0  \n",
      "4    0.0  0.0  0.0  0.0  0.0  1.0  0.0  0.0  0.0  0.0  1.0  \n",
      "..   ...  ...  ...  ...  ...  ...  ...  ...  ...  ...  ...  \n",
      "99   0.0  0.0  0.0  0.0  0.0  1.0  0.0  0.0  0.0  0.0  1.0  \n",
      "100  0.0  0.0  0.0  0.0  0.0  0.0  0.0  0.0  0.0  1.0  1.0  \n",
      "101  1.0  0.0  0.0  0.0  0.0  0.0  0.0  0.0  0.0  0.0  1.0  \n",
      "102  0.0  0.0  0.0  0.0  0.0  1.0  0.0  0.0  0.0  0.0  1.0  \n",
      "103  0.0  0.0  0.0  0.0  0.0  0.0  0.0  0.0  0.0  0.0  1.0  \n",
      "\n",
      "[104 rows x 19 columns]\n"
     ]
    }
   ],
   "execution_count": 751
  },
  {
   "metadata": {
    "ExecuteTime": {
     "end_time": "2025-03-24T13:44:48.072860Z",
     "start_time": "2025-03-24T13:44:48.070852Z"
    }
   },
   "cell_type": "code",
   "source": [
    "def RidgeRegression(x, y, weight, learning_rate=0.001, lambdas=np.logspace(-1, 5, 100).reshape(1, -1), iterations=10):\n",
    "    cost = []\n",
    "    lambdas = np.repeat(lambdas, x.shape[1], axis=0)\n",
    "    for i in range(iterations):\n",
    "        y_hat = np.dot(x, weight)\n",
    "        error = y_hat - y\n",
    "        gradient = np.dot(x.T, error) + weight * lambdas\n",
    "\n",
    "        weight -= learning_rate * gradient\n",
    "\n",
    "        cost = np.sqrt(np.mean(error ** 2, axis=0) / x.shape[0])\n",
    "\n",
    "        #print(f\"Iteration: {i}, Error: {cost}\")\n",
    "\n",
    "    return cost, weight, lambdas"
   ],
   "id": "b2cc4c8df0a312b9",
   "outputs": [],
   "execution_count": 752
  },
  {
   "metadata": {
    "ExecuteTime": {
     "end_time": "2025-03-24T13:44:48.123134Z",
     "start_time": "2025-03-24T13:44:48.111116Z"
    }
   },
   "cell_type": "code",
   "source": [
    "train_weight = np.ones((train_data_set.shape[1], 100))\n",
    "\n",
    "train_errors, train_weight, train_lambdas = RidgeRegression(train_data_set, train_set_y, train_weight)\n",
    "fin_lambda = train_lambdas[0][np.argmin(train_errors)]\n",
    "fin_weight = train_weight[0][np.argmin(train_errors)]\n",
    "print(f\"가장 작은 에러값: {np.min(train_errors)}\")\n",
    "print(f\"가장 fit한 lambda: {fin_lambda}\")\n",
    "print(f\"가장 fit한 weight: {fin_weight}\")"
   ],
   "id": "28b79dfe813937fb",
   "outputs": [
    {
     "name": "stdout",
     "output_type": "stream",
     "text": [
      "가장 작은 에러값: 0.06822482892918835\n",
      "가장 fit한 lambda: 15.199110829529332\n",
      "가장 fit한 weight: 0.10952311587189952\n"
     ]
    }
   ],
   "execution_count": 753
  },
  {
   "metadata": {
    "ExecuteTime": {
     "end_time": "2025-03-24T13:44:48.227944Z",
     "start_time": "2025-03-24T13:44:48.215545Z"
    }
   },
   "cell_type": "code",
   "source": [
    "def test_cost_function(x, y, weight):\n",
    "    y_hat = np.dot(x, weight)\n",
    "    error = y_hat - y\n",
    "    cost = np.sqrt((error ** 2).mean() / x.shape[0])\n",
    "    return cost"
   ],
   "id": "26cfa8e2d1b16fa5",
   "outputs": [],
   "execution_count": 754
  },
  {
   "metadata": {
    "ExecuteTime": {
     "end_time": "2025-03-24T13:44:48.293073Z",
     "start_time": "2025-03-24T13:44:48.288672Z"
    }
   },
   "cell_type": "code",
   "source": [
    "test_cost = test_cost_function(test_data_set, test_set_y, fin_weight)\n",
    "print(test_cost)"
   ],
   "id": "d1b84ab2f081fc97",
   "outputs": [
    {
     "name": "stdout",
     "output_type": "stream",
     "text": [
      "0.16591825392068343\n"
     ]
    }
   ],
   "execution_count": 755
  },
  {
   "metadata": {
    "ExecuteTime": {
     "end_time": "2025-03-24T13:44:48.371679Z",
     "start_time": "2025-03-24T13:44:48.369316Z"
    }
   },
   "cell_type": "code",
   "source": [
    "def sinusoidal_embedding(month):\n",
    "    x = np.sin(2 * np.pi * month / 12)\n",
    "    y = np.cos(2 * np.pi * month / 12)\n",
    "\n",
    "    x_df = x.to_frame(name='Month_x')\n",
    "    y_df = y.to_frame(name='Month_y')\n",
    "\n",
    "    return x_df, y_df"
   ],
   "id": "59964ec286eeda17",
   "outputs": [],
   "execution_count": 756
  },
  {
   "metadata": {
    "ExecuteTime": {
     "end_time": "2025-03-24T13:44:48.422977Z",
     "start_time": "2025-03-24T13:44:48.414863Z"
    }
   },
   "cell_type": "code",
   "source": [
    "train_si_scaled_x, train_si_scaled_y = sinusoidal_embedding(train_set_scaled['Month'])\n",
    "test_si_scaled_x, test_si_scaled_y = sinusoidal_embedding(test_set_scaled['Month'])\n",
    "\n",
    "train_set_si = train_set_scaled.copy()\n",
    "test_set_si = test_set_scaled.copy()\n",
    "\n",
    "month_pos = df.columns.get_loc('Month')\n",
    "\n",
    "train_set_si.insert(month_pos, 'Month_x', train_si_scaled_x)\n",
    "train_set_si.insert(month_pos + 1, 'Month_y', train_si_scaled_y)\n",
    "test_set_si.insert(month_pos, 'Month_x', test_si_scaled_x)\n",
    "test_set_si.insert(month_pos + 1, 'Month_y', test_si_scaled_y)\n",
    "\n",
    "train_set_si.drop(['Month'], axis=1, inplace=True)\n",
    "test_set_si.drop(['Month'], axis=1, inplace=True)\n",
    "\n",
    "train_set_ones = pd.DataFrame(np.ones(len(train_set_si)), columns=['Bias'])\n",
    "test_set_ones = pd.DataFrame(np.ones(len(test_set_si)), columns=['Bias'])\n",
    "\n",
    "train_set_si = pd.concat([train_set_si, train_set_ones], axis=1)\n",
    "test_set_si = pd.concat([test_set_si, test_set_ones], axis=1)\n",
    "\n",
    "print(train_set_si)\n",
    "print(test_set_si)"
   ],
   "id": "e672457aedf1be3a",
   "outputs": [
    {
     "name": "stdout",
     "output_type": "stream",
     "text": [
      "     X_locate  Y_locate   Month_x       Month_y       FFMC  Temperature  \\\n",
      "0   -0.274128  0.602856  0.500000  8.660254e-01 -12.943816    -2.365455   \n",
      "1    1.454346  1.419183 -0.866025 -5.000000e-01   0.261277     1.153681   \n",
      "2    1.454346  0.602856 -0.866025 -5.000000e-01   0.441183     1.379044   \n",
      "3    0.590109  0.602856 -1.000000 -1.836970e-16   0.045390     0.425584   \n",
      "4    0.157990 -0.213470 -0.866025 -5.000000e-01   0.747023     0.252227   \n",
      "..        ...       ...       ...           ...        ...          ...   \n",
      "408 -0.706247 -0.213470 -1.000000 -1.836970e-16  -0.188487     0.858975   \n",
      "409 -0.274128 -0.213470 -0.866025 -5.000000e-01   0.800995     1.708421   \n",
      "410 -1.138366  0.602856 -0.866025 -5.000000e-01   0.818986     0.928317   \n",
      "411 -1.570484 -0.213470 -0.500000 -8.660254e-01   0.297259     0.789632   \n",
      "412  0.590109 -1.029797 -1.000000 -1.836970e-16   0.387212     0.009528   \n",
      "\n",
      "         Wind      Rain  Bias  \n",
      "0   -1.752069 -0.073328   1.0  \n",
      "1   -1.238348 -0.073328   1.0  \n",
      "2   -0.496307 -0.073328   1.0  \n",
      "3   -1.010027 -0.073328   1.0  \n",
      "4   -0.724627 -0.073328   1.0  \n",
      "..        ...       ...   ...  \n",
      "408 -0.210906 -0.073328   1.0  \n",
      "409  0.017414 -0.073328   1.0  \n",
      "410 -0.724627 -0.073328   1.0  \n",
      "411  0.816536 -0.073328   1.0  \n",
      "412  1.843977 -0.073328   1.0  \n",
      "\n",
      "[413 rows x 9 columns]\n",
      "     X_locate  Y_locate       Month_x       Month_y      FFMC  Temperature  \\\n",
      "0    1.022227 -0.213470 -8.660254e-01 -5.000000e-01  0.207306     0.841639   \n",
      "1   -0.706247 -0.213470  1.000000e+00  6.123234e-17  0.495155    -1.724036   \n",
      "2    0.157990 -0.213470 -8.660254e-01 -5.000000e-01  0.063381     0.390912   \n",
      "3   -0.706247 -0.213470 -8.660254e-01 -5.000000e-01  0.153334    -1.481337   \n",
      "4   -0.274128 -1.029797 -8.660254e-01 -5.000000e-01  0.693052     1.743092   \n",
      "..        ...       ...           ...           ...       ...          ...   \n",
      "99   1.454346  1.419183 -8.660254e-01 -5.000000e-01  0.081371     0.789632   \n",
      "100 -0.274128 -0.213470 -2.449294e-16  1.000000e+00 -0.944092    -2.469468   \n",
      "101 -0.274128  0.602856  1.000000e+00  6.123234e-17  0.189315    -0.285178   \n",
      "102 -1.138366 -0.213470 -8.660254e-01 -5.000000e-01 -1.627735     0.529598   \n",
      "103  0.590109 -1.029797  8.660254e-01  5.000000e-01 -1.034045    -2.538811   \n",
      "\n",
      "         Wind      Rain  Bias  \n",
      "0   -1.238348 -0.073328   1.0  \n",
      "1    2.300618 -0.073328   1.0  \n",
      "2    2.072298  4.253033   1.0  \n",
      "3   -1.010027 -0.073328   1.0  \n",
      "4    0.531135 -0.073328   1.0  \n",
      "..        ...       ...   ...  \n",
      "99  -0.724627 -0.073328   1.0  \n",
      "100  2.586018 -0.073328   1.0  \n",
      "101  0.302815 -0.073328   1.0  \n",
      "102  1.044856 -0.073328   1.0  \n",
      "103  0.017414 -0.073328   1.0  \n",
      "\n",
      "[104 rows x 9 columns]\n"
     ]
    }
   ],
   "execution_count": 757
  },
  {
   "metadata": {
    "ExecuteTime": {
     "end_time": "2025-03-24T13:44:48.475971Z",
     "start_time": "2025-03-24T13:44:48.463Z"
    }
   },
   "cell_type": "code",
   "source": [
    "train_si_weight = np.ones((train_set_si.shape[1], 100))\n",
    "test_si_weight = np.ones((test_set_si.shape[1], 100))\n",
    "\n",
    "train_errors, train_weight, train_lambdas = RidgeRegression(train_data_set, train_set_y, train_weight)\n",
    "fin_lambda = train_lambdas[0][np.argmin(train_errors)]\n",
    "fin_weight = train_weight[0][np.argmin(train_errors)]\n",
    "print(f\"가장 작은 에러값: {np.min(train_errors)}\")\n",
    "print(f\"가장 fit한 lambda: {fin_lambda}\")\n",
    "print(f\"가장 fit한 weight: {fin_weight}\")"
   ],
   "id": "b919fa29a6b78096",
   "outputs": [
    {
     "name": "stdout",
     "output_type": "stream",
     "text": [
      "가장 작은 에러값: 0.06804206996336985\n",
      "가장 fit한 lambda: 3.7649358067924674\n",
      "가장 fit한 weight: 0.12625506095359504\n"
     ]
    }
   ],
   "execution_count": 758
  },
  {
   "metadata": {
    "ExecuteTime": {
     "end_time": "2025-03-24T13:44:48.562553Z",
     "start_time": "2025-03-24T13:44:48.550560Z"
    }
   },
   "cell_type": "code",
   "source": [
    "test_cost = test_cost_function(test_data_set, test_set_y, fin_weight)\n",
    "print(test_cost)"
   ],
   "id": "bed4c0cdd571f80f",
   "outputs": [
    {
     "name": "stdout",
     "output_type": "stream",
     "text": [
      "0.16582510908493872\n"
     ]
    }
   ],
   "execution_count": 759
  }
 ],
 "metadata": {
  "kernelspec": {
   "display_name": "Python 3 (ipykernel)",
   "language": "python",
   "name": "python3"
  },
  "language_info": {
   "codemirror_mode": {
    "name": "ipython",
    "version": 3
   },
   "file_extension": ".py",
   "mimetype": "text/x-python",
   "name": "python",
   "nbconvert_exporter": "python",
   "pygments_lexer": "ipython3",
   "version": "3.12.9"
  }
 },
 "nbformat": 4,
 "nbformat_minor": 5
}
